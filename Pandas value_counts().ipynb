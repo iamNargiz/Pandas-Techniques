{
 "cells": [
  {
   "cell_type": "code",
   "execution_count": 1,
   "id": "a06496cb",
   "metadata": {},
   "outputs": [],
   "source": [
    "import pandas as pd\n",
    "df=pd.read_excel('sample_pivot.xlsx')"
   ]
  },
  {
   "cell_type": "code",
   "execution_count": 2,
   "id": "3aa693f5",
   "metadata": {},
   "outputs": [
    {
     "data": {
      "text/html": [
       "<div>\n",
       "<style scoped>\n",
       "    .dataframe tbody tr th:only-of-type {\n",
       "        vertical-align: middle;\n",
       "    }\n",
       "\n",
       "    .dataframe tbody tr th {\n",
       "        vertical-align: top;\n",
       "    }\n",
       "\n",
       "    .dataframe thead th {\n",
       "        text-align: right;\n",
       "    }\n",
       "</style>\n",
       "<table border=\"1\" class=\"dataframe\">\n",
       "  <thead>\n",
       "    <tr style=\"text-align: right;\">\n",
       "      <th></th>\n",
       "      <th>Date</th>\n",
       "      <th>Region</th>\n",
       "      <th>Type</th>\n",
       "      <th>Units</th>\n",
       "      <th>Sales</th>\n",
       "    </tr>\n",
       "  </thead>\n",
       "  <tbody>\n",
       "    <tr>\n",
       "      <th>0</th>\n",
       "      <td>2020-07-11</td>\n",
       "      <td>East</td>\n",
       "      <td>Children's Clothing</td>\n",
       "      <td>18.0</td>\n",
       "      <td>306</td>\n",
       "    </tr>\n",
       "    <tr>\n",
       "      <th>1</th>\n",
       "      <td>2020-09-23</td>\n",
       "      <td>North</td>\n",
       "      <td>Children's Clothing</td>\n",
       "      <td>14.0</td>\n",
       "      <td>448</td>\n",
       "    </tr>\n",
       "    <tr>\n",
       "      <th>2</th>\n",
       "      <td>2020-04-02</td>\n",
       "      <td>South</td>\n",
       "      <td>Women's Clothing</td>\n",
       "      <td>17.0</td>\n",
       "      <td>425</td>\n",
       "    </tr>\n",
       "    <tr>\n",
       "      <th>3</th>\n",
       "      <td>2020-02-28</td>\n",
       "      <td>East</td>\n",
       "      <td>Children's Clothing</td>\n",
       "      <td>26.0</td>\n",
       "      <td>832</td>\n",
       "    </tr>\n",
       "    <tr>\n",
       "      <th>4</th>\n",
       "      <td>2020-03-19</td>\n",
       "      <td>West</td>\n",
       "      <td>Women's Clothing</td>\n",
       "      <td>3.0</td>\n",
       "      <td>33</td>\n",
       "    </tr>\n",
       "  </tbody>\n",
       "</table>\n",
       "</div>"
      ],
      "text/plain": [
       "        Date Region                 Type  Units  Sales\n",
       "0 2020-07-11   East  Children's Clothing   18.0    306\n",
       "1 2020-09-23  North  Children's Clothing   14.0    448\n",
       "2 2020-04-02  South     Women's Clothing   17.0    425\n",
       "3 2020-02-28   East  Children's Clothing   26.0    832\n",
       "4 2020-03-19   West     Women's Clothing    3.0     33"
      ]
     },
     "execution_count": 2,
     "metadata": {},
     "output_type": "execute_result"
    }
   ],
   "source": [
    "df.head()"
   ]
  },
  {
   "cell_type": "code",
   "execution_count": 9,
   "id": "3386d133",
   "metadata": {},
   "outputs": [
    {
     "data": {
      "text/plain": [
       "East     411\n",
       "North    316\n",
       "South    137\n",
       "West     136\n",
       "Name: Region, dtype: int64"
      ]
     },
     "execution_count": 9,
     "metadata": {},
     "output_type": "execute_result"
    }
   ],
   "source": [
    "df['Region'].value_counts()"
   ]
  },
  {
   "cell_type": "code",
   "execution_count": 14,
   "id": "27d71742",
   "metadata": {},
   "outputs": [
    {
     "data": {
      "text/plain": [
       "Women's Clothing       0.424\n",
       "Men's Clothing         0.291\n",
       "Children's Clothing    0.285\n",
       "Name: Type, dtype: float64"
      ]
     },
     "execution_count": 14,
     "metadata": {},
     "output_type": "execute_result"
    }
   ],
   "source": [
    "df['Type'].value_counts(normalize=True)"
   ]
  },
  {
   "cell_type": "code",
   "execution_count": 15,
   "id": "5261b14f",
   "metadata": {},
   "outputs": [
    {
     "data": {
      "text/plain": [
       "Women's Clothing       42.4\n",
       "Men's Clothing         29.1\n",
       "Children's Clothing    28.5\n",
       "Name: Type, dtype: float64"
      ]
     },
     "execution_count": 15,
     "metadata": {},
     "output_type": "execute_result"
    }
   ],
   "source": [
    "df['Type'].value_counts(normalize=True)*100"
   ]
  },
  {
   "cell_type": "code",
   "execution_count": 13,
   "id": "05f66fb4",
   "metadata": {},
   "outputs": [
    {
     "data": {
      "text/plain": [
       "(31.877, 407.0]    539\n",
       "(407.0, 781.0]     348\n",
       "(781.0, 1155.0]    113\n",
       "Name: Sales, dtype: int64"
      ]
     },
     "execution_count": 13,
     "metadata": {},
     "output_type": "execute_result"
    }
   ],
   "source": [
    "df['Sales'].value_counts(bins=3)\n"
   ]
  },
  {
   "cell_type": "code",
   "execution_count": null,
   "id": "a01a67dd",
   "metadata": {},
   "outputs": [],
   "source": []
  }
 ],
 "metadata": {
  "kernelspec": {
   "display_name": "Python 3",
   "language": "python",
   "name": "python3"
  },
  "language_info": {
   "codemirror_mode": {
    "name": "ipython",
    "version": 3
   },
   "file_extension": ".py",
   "mimetype": "text/x-python",
   "name": "python",
   "nbconvert_exporter": "python",
   "pygments_lexer": "ipython3",
   "version": "3.9.5"
  }
 },
 "nbformat": 4,
 "nbformat_minor": 5
}
